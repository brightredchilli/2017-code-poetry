]0;IPython: sfpc/code-poetry{
 "cells": [
  {
   "cell_type": "markdown",
   "metadata": {},
   "source": [
    "# Metabolic Excreta of Domestic Ungulates\n",
    "\n",
    "This project generates seemingly plausible art theory terms, with their definitions.\n",
    "This is perhaps in response to my shock that there exists a world where seemingly a multitude of concepts keep getting invented. Are these words necessary to explore new concepts, or are they simply obfuscation and the same jargon throwing that the tech world uses?"
   ]
  },
  {
   "cell_type": "markdown",
   "metadata": {},
   "source": [
    "### Word examples\n",
    "\n",
    "These are words that I think my word generator should generate\n",
    "\n",
    "- expressionistic dialectic - blah blah\n",
    "- dialectical expressionism - \n",
    "- additive psychology\n",
    "- psychological additivism\n",
    "- materialistic additive psychology\n",
    "- post-materialistic additivism\n",
    "\n",
    "The fact is that some of these might indeed be real words."
   ]
  },
  {
   "cell_type": "code",
   "execution_count": null,
   "metadata": {
    "collapsed": true
   },
   "outputs": [],
   "source": [
    "from textblob import TextBlob\n",
    "from re import search as s\n",
    "from random import choice\n",
    "from nltk.corpus import words"
   ]
  },
  {
   "cell_type": "code",
   "execution_count": null,
   "metadata": {
    "collapsed": true
   },
   "outputs": [],
   "source": [
    "### Definition examples\n",
    "noun = {\n",
    " \"dialectic\" : \"methodology used for examining and cognition of philosophical objects\"\n",
    " \"material\" : \"essentialized basis of medium specificity\"\n",
    "}\n"
   ]
  },
  {
   "cell_type": "code",
   "execution_count": null,
   "metadata": {
    "collapsed": true
   },
   "outputs": [],
   "source": [
    "# The key is that we nounify what are verbs, and we verbify what are nouns\n",
    "\n",
    "# nounify nouns?: capital -> capitalism, material -> materialism\n",
    "# verbify adjectives: aesthetic -> aestheticization, additive ->  (is this right?)\n",
    "# nounify verbs : add -> addition -> additivism\n",
    "\n",
    "# ismify: pyschology -> psychologism, aesthetic->aestheticism, material->materialism\n",
    "\n",
    "def ismify(thing):\n",
    "    if s('(cy|hy|gy|ve)$', thing):\n",
    "        thing = thing[:-1]\n",
    "    return thing + \"ism\""
   ]
  },
  {
   "cell_type": "code",
   "execution_count": null,
   "metadata": {},
   "outputs": [],
   "source": [
    "test_cases = [\"psychology\",\n",
    "              \"logic\",\n",
    "              \"aesthetic\",\n",
    "              \"additive\",\n",
    "              \"philosophy\",\n",
    "              \"democracy\",\n",
    "              \"prolificacy\",\n",
    "              \"ontology\",\n",
    "              \"structural\",\n",
    "              \"reduction\",\n",
    "              \"dialectic\",\n",
    "              \"linguistics\",\n",
    "              \"economy\",\n",
    "              \"history\"\n",
    "             ]\n",
    "print([ismify(thing) for thing in test_cases])\n",
    "# out = [ismify(w) for w in words.words() if s(\"(hy|gy|ll|ic|ve)$\", w)]\n",
    "# [choice(out) for _ in range(10)]"
   ]
  },
  {
   "cell_type": "code",
   "execution_count": null,
   "metadata": {
    "collapsed": true
   },
   "outputs": [],
   "source": [
    "\n",
    "def sationify(thing):\n",
    "    if s('acy$', thing):\n",
    "        thing = thing[:-3]\n",
    "    elif s('(ry|gy|ve|hy|cy)$', thing):\n",
    "        thing = thing[:-1] +\"iz\"\n",
    "    elif s('(ize)$', thing):\n",
    "        thing = thing[:-3] +\"iz\"\n",
    "    elif s('(ic|al)$', thing):\n",
    "        thing = thing[:-2] + \"iz\"\n",
    "    elif s('(ism)$', thing): # catch isms\n",
    "        thing = thing[:-3] + \"iz\"\n",
    "    elif s('ion$', thing): # catch loops\n",
    "        return thing\n",
    "    return thing + \"ation\""
   ]
  },
  {
   "cell_type": "code",
   "execution_count": null,
   "metadata": {},
   "outputs": [],
   "source": [
    "\n",
    "print([sationify(thing) for thing in test_cases])\n",
    "\n",
    "print(sationify(ismify(\"reduction\")))"
   ]
  },
  {
   "cell_type": "code",
   "execution_count": null,
   "metadata": {
    "collapsed": true
   },
   "outputs": [],
   "source": [
    "def isticify(thing):\n",
    "    if s('(my|ry|cy|hy|gy|ve)$', thing):\n",
    "        thing = thing[:-1]\n",
    "    if s('(my|ry)$', thing):\n",
    "        return thing[:-1] + \"ic\"\n",
    "    elif s('ics+$', thing): # catch loops\n",
    "        return thing\n",
    "    return thing + \"istic\""
   ]
  },
  {
   "cell_type": "code",
   "execution_count": null,
   "metadata": {},
   "outputs": [],
   "source": [
    "print([isticify(thing) for thing in test_cases])"
   ]
  },
  {
   "cell_type": "code",
   "execution_count": null,
   "metadata": {},
   "outputs": [],
   "source": [
    "# Now we can come up with some proper datasets\n",
    "\n",
    "studies = [\"philosophy\",\n",
    "           \"sociology\",\n",
    "           \"ontology\",\n",
    "           \"economy\",\n",
    "           \"psychology\",\n",
    "           \"technology\",\n",
    "           \"archeology\",\n",
    "           \"geography\",\n",
    "           \"history\",\n",
    "           \"linguistics\",\n",
    "          ]\n",
    "\n",
    "terms = [\"aesthetic\",  \n",
    "         \"ethic\",\n",
    "         \"ethic\",\n",
    "          ]\n",
    "\n",
    "prefixes = [\"pre\",\n",
    "            \"post\",\n",
    "            \"meta\",\n",
    "            \"neo\",\n",
    "            \"post-post\"\n",
    "          ]\n",
    "\n",
    "print([isticify(thing) for thing in studies])\n",
    "\n"
   ]
  },
  {
   "cell_type": "code",
   "execution_count": null,
   "metadata": {
    "collapsed": true
   },
   "outputs": [],
   "source": []
  }
 ],
 "metadata": {
  "kernelspec": {
   "display_name": "Python 2",
   "language": "python",
   "name": "python2"
  },
  "language_info": {
   "codemirror_mode": {
    "name": "ipython",
    "version": 2
   },
   "file_extension": ".py",
   "mimetype": "text/x-python",
   "name": "python",
   "nbconvert_exporter": "python",
   "pygments_lexer": "ipython2",
   "version": "2.7.13"
  }
 },
 "nbformat": 4,
 "nbformat_minor": 2
}
